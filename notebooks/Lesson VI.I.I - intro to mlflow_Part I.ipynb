{
 "cells": [
  {
   "cell_type": "markdown",
   "metadata": {},
   "source": [
    "# ✍️ Exercise: Intro to MLFlow - Part I\n",
    "\n",
    "In this exercise, we will cover the basics of MLFlow. MLFlow is an open-source platform for the complete machine learning lifecycle. It is designed to work with any machine learning library and to be agnostic to the execution environment. It is also designed to be scalable and to support the complete machine learning lifecycle, including experimentation, reproducibility, and deployment.\n",
    "\n",
    "In this first part, we will cover the following topics:\n",
    "- How to Install MLFlow.\n",
    "- How to launch the MLFlow Server.\n",
    "- How to create a new MLFlow Experiment.\n",
    "- How to create a new MLFlow Run.\n",
    "- How to log parameters, metrics, and artifacts."
   ]
  },
  {
   "cell_type": "markdown",
   "metadata": {},
   "source": [
    "## How to Install MLFlow  \n",
    "\n",
    "💡 Remember: We can simply install MLFlow **using pip** 🎉\n",
    "\n",
    "```bash\n",
    "pip install mlflow\n",
    "```\n",
    "\n",
    "## How to launch the MLFlow Server\n",
    "\n",
    "💡 Remember: After installing MLFlow, we can launch the MLFlow server using the following command **in the terminal**:\n",
    "\n",
    "```bash\n",
    "mlflow server\n",
    "```\n",
    "\n",
    "You will see the following output:\n",
    "\n",
    "```bash\n",
    "[2024-02-21 23:29:52 +0100] [725738] [INFO] Starting gunicorn 21.2.0\n",
    "[2024-02-21 23:29:52 +0100] [725738] [INFO] Listening at: http://127.0.0.1:5000 (725738)\n",
    "[2024-02-21 23:29:52 +0100] [725738] [INFO] Using worker: sync\n",
    "[2024-02-21 23:29:52 +0100] [725739] [INFO] Booting worker with pid: 725739\n",
    "[2024-02-21 23:29:52 +0100] [725740] [INFO] Booting worker with pid: 725740\n",
    "[2024-02-21 23:29:53 +0100] [725741] [INFO] Booting worker with pid: 725741\n",
    "```\n",
    "\n",
    "👉 Then, we can **access the mlflow server by opening the following URL in a web browser**: http://localhost:5000.\n"
   ]
  },
  {
   "cell_type": "markdown",
   "metadata": {},
   "source": [
    "## Exercise I: Connecting to the MLFlow Server\n",
    "\n",
    "1. 👉 Connect to MLFlow using `mlflow.set_tracking_uri()` and set the URI to `http://localhost:5000`.\n",
    "2. 👉 Use `mlflow.search_experiments()` to list all the experiments."
   ]
  },
  {
   "cell_type": "code",
   "execution_count": 3,
   "metadata": {},
   "outputs": [],
   "source": [
    "import mlflow\n",
    "\n",
    "\n",
    "# set the experiment id\n",
    "mlflow.set_tracking_uri(\"http://localhost:5000\")\n",
    "mlflow.set_experiment(experiment_id=\"268156047926477072\")\n",
    "\n",
    "mlflow.autolog()\n",
    "\n"
   ]
  },
  {
   "cell_type": "markdown",
   "metadata": {},
   "source": [
    "## Exercise II: Creating a New MLFlow Experiment\n",
    "\n",
    "1. 👉 Create a new MLFlow Experiment using `mlflow.create_experiment()` and set the name to `intro-to-mlflow`.\n",
    "2. 👉 Check if the experiment was created by using `mlflow.get_experiment_by_name()`.\n",
    "3. 👉 Print the experiment ID."
   ]
  },
  {
   "cell_type": "code",
   "execution_count": 9,
   "metadata": {},
   "outputs": [
    {
     "name": "stdout",
     "output_type": "stream",
     "text": [
      "El ID del experimento es: 354971876388856999\n"
     ]
    }
   ],
   "source": [
    "experiment_id = mlflow.create_experiment(\"intro-to-mlflow\")\n",
    "experiment = mlflow.get_experiment_by_name(\"intro_to_mlflow\")\n",
    "print(f\"El ID del experimento es: {experiment.experiment_id}\")"
   ]
  },
  {
   "cell_type": "markdown",
   "metadata": {},
   "source": [
    "## Exercise III: Creating a New MLFlow Run\n",
    "\n",
    "1. 👉 Create a new MLFlow Run using `mlflow.start_run()` and set the experiment_id to the ID of the `intro-to-mlflow` experiment.\n",
    "2. 👉 Check if the run was created by using `run.info.run_id`.\n",
    "3. 👉 Print the run_id."
   ]
  },
  {
   "cell_type": "code",
   "execution_count": 10,
   "metadata": {},
   "outputs": [
    {
     "name": "stderr",
     "output_type": "stream",
     "text": [
      "2024/12/09 20:29:45 INFO mlflow.tracking._tracking_service.client: 🏃 View run bedecked-pig-33 at: http://localhost:5000/#/experiments/821024274977858993/runs/7e4c8d10bf8d4bf6a911925cbab5328b.\n",
      "2024/12/09 20:29:45 INFO mlflow.tracking._tracking_service.client: 🧪 View experiment at: http://localhost:5000/#/experiments/821024274977858993.\n"
     ]
    }
   ],
   "source": [
    "import mlflow\n",
    "\n",
    "experiment_id = mlflow.get_experiment_by_name(\"intro-to-mlflow\").experiment_id\n",
    "\n",
    "with mlflow.start_run(experiment_id=experiment_id) as run:\n",
    "    run_id = run.info.run_id"
   ]
  },
  {
   "cell_type": "code",
   "execution_count": 11,
   "metadata": {},
   "outputs": [
    {
     "name": "stdout",
     "output_type": "stream",
     "text": [
      "El ID de la ejecución es: 7e4c8d10bf8d4bf6a911925cbab5328b\n"
     ]
    }
   ],
   "source": [
    "print(f\"El ID de la ejecución es: {run_id}\")"
   ]
  },
  {
   "cell_type": "markdown",
   "metadata": {},
   "source": [
    "## Exercise IV: Logging Tags, Parameters and Metrics\n",
    "\n",
    "Imagine you have the following information about the run:\n",
    "\n",
    "- model_type: \"RandomForest\"\n",
    "- accuracy: 0.85\n",
    "- max_depth: 10\n",
    "- precision: 0.90\n",
    "- learning_rate: 0.01\n",
    "- recall: 0.80\n",
    "\n",
    "1. 👉 Think. What should you log as a tag, parameter, and metric?\n",
    "2. 👉 Create a new MLFlow Run using `mlflow.start_run()` and set the experiment_id to the ID of the `intro-to-mlflow` experiment.\n",
    "3. 👉 Log the tags using `mlflow.set_tags()`.\n",
    "4. 👉 Log the parameters using `mlflow.log_param()`.\n",
    "5. 👉 Log the metrics using `mlflow.log_metric()`."
   ]
  },
  {
   "cell_type": "code",
   "execution_count": 12,
   "metadata": {},
   "outputs": [
    {
     "name": "stderr",
     "output_type": "stream",
     "text": [
      "2024/12/09 20:30:57 INFO mlflow.tracking._tracking_service.client: 🏃 View run vaunted-trout-782 at: http://localhost:5000/#/experiments/821024274977858993/runs/4a8be0f2b9c644f7a126ae192ab4fd82.\n",
      "2024/12/09 20:30:57 INFO mlflow.tracking._tracking_service.client: 🧪 View experiment at: http://localhost:5000/#/experiments/821024274977858993.\n"
     ]
    },
    {
     "name": "stdout",
     "output_type": "stream",
     "text": [
      "El ID de la ejecución es: 4a8be0f2b9c644f7a126ae192ab4fd82\n"
     ]
    }
   ],
   "source": [
    "experiment_id = mlflow.get_experiment_by_name(\"intro-to-mlflow\").experiment_id\n",
    "\n",
    "with mlflow.start_run(experiment_id=experiment_id) as run:\n",
    "    # 3. Loguear los tags\n",
    "    mlflow.set_tags({\"model_type\": \"RandomForest\"})\n",
    "    \n",
    "    # 4. Loguear los parámetros\n",
    "    mlflow.log_param(\"max_depth\", 10)\n",
    "    mlflow.log_param(\"learning_rate\", 0.01)\n",
    "    \n",
    "    # 5. Loguear las métricas\n",
    "    mlflow.log_metric(\"accuracy\", 0.85)\n",
    "    mlflow.log_metric(\"precision\", 0.90)\n",
    "    mlflow.log_metric(\"recall\", 0.80)\n",
    "    \n",
    "    # Imprimir el ID de la ejecución\n",
    "    run_id = run.info.run_id\n",
    "    print(f\"El ID de la ejecución es: {run_id}\")"
   ]
  }
 ],
 "metadata": {
  "kernelspec": {
   "display_name": "myenv",
   "language": "python",
   "name": "python3"
  },
  "language_info": {
   "codemirror_mode": {
    "name": "ipython",
    "version": 3
   },
   "file_extension": ".py",
   "mimetype": "text/x-python",
   "name": "python",
   "nbconvert_exporter": "python",
   "pygments_lexer": "ipython3",
   "version": "3.11.9"
  }
 },
 "nbformat": 4,
 "nbformat_minor": 2
}
